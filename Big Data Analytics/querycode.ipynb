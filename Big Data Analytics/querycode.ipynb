{
 "cells": [
  {
   "attachments": {},
   "cell_type": "markdown",
   "metadata": {},
   "source": [
    "# `BDA Project`\n",
    "### `Overview`:\n",
    "- The objective of this project was to perform some analysis on the queries created by ingesting the `“Food and Goods order in Brazil batch data from Kaggle”`. Using `Apache Nifi` to `Apache Hadoop` and then perform analysis on it using `Apache Spark`. The report contains the snapshots of source codes and brief explanation about the codes and the project."
   ]
  },
  {
   "attachments": {},
   "cell_type": "markdown",
   "metadata": {},
   "source": [
    "- Importing the required libraries."
   ]
  },
  {
   "cell_type": "code",
   "execution_count": 1,
   "metadata": {},
   "outputs": [],
   "source": [
    "import pyspark\n",
    "from pyspark.sql import SparkSession\n",
    "from pyspark.sql.functions import *\n",
    "from pyspark.sql.types import *\n",
    "from pyspark.sql.functions import count\n",
    "from pyspark.sql.types import Row\n",
    "\n",
    "\n",
    "\n"
   ]
  },
  {
   "attachments": {},
   "cell_type": "markdown",
   "metadata": {},
   "source": [
    "- Reading the data"
   ]
  },
  {
   "cell_type": "code",
   "execution_count": null,
   "metadata": {},
   "outputs": [],
   "source": [
    "spark = SparkSession \\\n",
    "    .builder \\\n",
    "    .appName(\"BDA project\") \\\n",
    "    .config(\"spark.some.config.option\", \"some-value\") \\\n",
    "    .getOrCreate()\n",
    "\n",
    "df = '/user/vagrant/final.parquet'\n",
    "final = spark.read.parquet(df, header='true', inferSchema='true', sep=\",\")"
   ]
  },
  {
   "attachments": {},
   "cell_type": "markdown",
   "metadata": {},
   "source": [
    "### The first query contains the list of all different types of payment methods that were used to pay the riders in year 2021 "
   ]
  },
  {
   "cell_type": "code",
   "execution_count": null,
   "metadata": {},
   "outputs": [],
   "source": [
    "x=final.selectExpr(\"sum(if( order_status = 'CANCELED' , 1, 0 )) as Canceled\", \"sum(if( order_status = 'FINISHED' , 1, 0 )) as Finished\").show()\n",
    "\n"
   ]
  },
  {
   "attachments": {},
   "cell_type": "markdown",
   "metadata": {},
   "source": [
    "### The second query contains the count of number of orders that were canceled and one that got completed."
   ]
  },
  {
   "cell_type": "code",
   "execution_count": null,
   "metadata": {},
   "outputs": [],
   "source": [
    "final.selectExpr(\"sum(if( hub_city = 'RIO DE JANEIRO' , 1, 0 )) as Rio_de_Janeiro\", \"sum(if( hub_city = 'SÔøΩO PAULO' , 1, 0 )) as Sao_Paulo\"\n",
    "                 ,\"sum(if( hub_city = 'CURITIBA' , 1, 0 )) as Curitiba\", \"sum(if( hub_city = 'PORTO ALEGRE' , 1, 0 )) as Porto_Alegre\").show()"
   ]
  },
  {
   "attachments": {},
   "cell_type": "markdown",
   "metadata": {},
   "source": [
    "### The third query was meant to observe in which popular city of Brazil the maximum number of orders were delivered. "
   ]
  },
  {
   "cell_type": "code",
   "execution_count": null,
   "metadata": {},
   "outputs": [],
   "source": [
    "final.agg({'order_amount': 'avg'}).show(),final.agg({'order_amount': 'max'}).show() ,final.agg({'order_amount': 'min'}).show()\n",
    "\n",
    "\n"
   ]
  },
  {
   "attachments": {},
   "cell_type": "markdown",
   "metadata": {},
   "source": [
    "### In the fourth query I tried to find out the average, minimum and maximum amount of orders. "
   ]
  },
  {
   "cell_type": "code",
   "execution_count": null,
   "metadata": {},
   "outputs": [],
   "source": [
    "\n",
    "final.agg({'hub_name': 'max','store_name': 'max'}).show()\n",
    "final.agg({'hub_name': 'min','store_name': 'min'}).show()"
   ]
  },
  {
   "attachments": {},
   "cell_type": "markdown",
   "metadata": {},
   "source": [
    "### The fifth query shows about the most and least popular shop and most popular hub."
   ]
  },
  {
   "cell_type": "code",
   "execution_count": null,
   "metadata": {},
   "outputs": [],
   "source": [
    "\n",
    "final.agg({'delivery_distance_meters': 'max'}).show() ,final.agg({'delivery_distance_meters': 'min'}).show(), final.agg({'delivery_distance_meters': 'avg'}).show()"
   ]
  },
  {
   "attachments": {},
   "cell_type": "markdown",
   "metadata": {},
   "source": [
    "### In the sixth query we measured the delivery distance "
   ]
  },
  {
   "cell_type": "code",
   "execution_count": null,
   "metadata": {},
   "outputs": [],
   "source": [
    "dropDisDF = final.dropDuplicates([\"payment_method\"]).select(\"payment_method\")\n",
    "dropDisDF.show(truncate=False)\n",
    "\n",
    "print(final.dropDuplicates([\"payment_method\"]).select(\"payment_method\").collect())"
   ]
  },
  {
   "cell_type": "code",
   "execution_count": null,
   "metadata": {},
   "outputs": [],
   "source": [
    "final.write.parquet (\"queries.parquet\")"
   ]
  }
 ],
 "metadata": {
  "kernelspec": {
   "display_name": "Python 3",
   "language": "python",
   "name": "python3"
  },
  "language_info": {
   "codemirror_mode": {
    "name": "ipython",
    "version": 3
   },
   "file_extension": ".py",
   "mimetype": "text/x-python",
   "name": "python",
   "nbconvert_exporter": "python",
   "pygments_lexer": "ipython3",
   "version": "3.10.4"
  },
  "orig_nbformat": 4,
  "vscode": {
   "interpreter": {
    "hash": "aee8b7b246df8f9039afb4144a1f6fd8d2ca17a180786b69acc140d282b71a49"
   }
  }
 },
 "nbformat": 4,
 "nbformat_minor": 2
}
